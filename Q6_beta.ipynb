{
 "cells": [
  {
   "cell_type": "code",
   "execution_count": 1,
   "id": "e5189b62",
   "metadata": {},
   "outputs": [],
   "source": [
    "import random as rand\n",
    "import math\n",
    "import pandas as pd\n",
    "import matplotlib.pyplot as plt\n",
    "import sys\n",
    "import numpy as np\n",
    "import scipy.stats as stats"
   ]
  },
  {
   "cell_type": "code",
   "execution_count": 2,
   "id": "105ed5d2",
   "metadata": {},
   "outputs": [],
   "source": [
    "x_red = []\n",
    "y_red = []\n",
    "x_blue = []\n",
    "y_blue = []\n",
    "n = 500\n",
    "n1 = 100\n",
    "k=5"
   ]
  },
  {
   "cell_type": "code",
   "execution_count": 3,
   "id": "fd97c7ef",
   "metadata": {},
   "outputs": [],
   "source": [
    "def beta_data(n,a,b):\n",
    "    x_overal = np.random.beta(a,b,n)\n",
    "    y_overal = np.random.beta(a,b,n)\n",
    "\n",
    "    \n",
    "    flag = 0\n",
    "    beta_params = stats.beta.fit(x_overal)\n",
    "    x_overal = stats.beta.pdf(x_overal, beta_params[0], beta_params[1], beta_params[2], beta_params[3])\n",
    "    beta_params1 = stats.beta.fit(y_overal)\n",
    "    y_overal = stats.beta.pdf(y_overal, beta_params1[0], beta_params1[1], beta_params1[2], beta_params1[3])\n",
    "    x_result = []\n",
    "    y_result = []\n",
    "    for i in range(0,len(x_overal)-1):\n",
    "        if x_overal[i]>10 or x_overal[i]<5:\n",
    "            continue\n",
    "        else:\n",
    "            \n",
    "            \n",
    "            x_result.append(x_overal[i])\n",
    "            flag = flag + 1\n",
    "            if flag == int(n/2):\n",
    "                break\n",
    "    \n",
    "    flag = 0       \n",
    "    for j in range(0,len(y_overal)-1):\n",
    "        if y_overal[j]>10 or y_overal[j]<5:\n",
    "            continue\n",
    "        else:\n",
    "            \n",
    "            y_result.append(y_overal[j])\n",
    "            flag = flag + 1\n",
    "            if flag == int(n/2):\n",
    "                break\n",
    "        \n",
    "    return x_result,y_result\n",
    "\n",
    "\n"
   ]
  },
  {
   "cell_type": "code",
   "execution_count": 4,
   "id": "4eebe563",
   "metadata": {},
   "outputs": [
    {
     "name": "stderr",
     "output_type": "stream",
     "text": [
      "/Users/hediyeraisy/opt/anaconda3/lib/python3.9/site-packages/scipy/optimize/minpack.py:175: RuntimeWarning: The iteration is not making good progress, as measured by the \n",
      "  improvement from the last ten iterations.\n",
      "  warnings.warn(msg, RuntimeWarning)\n"
     ]
    },
    {
     "data": {
      "text/plain": [
       "[<matplotlib.lines.Line2D at 0x7fb6d44f3220>,\n",
       " <matplotlib.lines.Line2D at 0x7fb6d44f32e0>]"
      ]
     },
     "execution_count": 4,
     "metadata": {},
     "output_type": "execute_result"
    },
    {
     "data": {
      "image/png": "[encoded data removed]",
      "text/plain": [
       "<Figure size 432x288 with 1 Axes>"
      ]
     },
     "metadata": {
      "needs_background": "light"
     },
     "output_type": "display_data"
    }
   ],
   "source": [
    "x_red, y_red = beta_data(n,80,20)\n",
    "x_blue, y_blue = beta_data(n,50,30)\n",
    "plt.plot(x_red,y_red,'r^',x_blue,y_blue,'b^')"
   ]
  },
  {
   "cell_type": "code",
   "execution_count": 5,
   "id": "7892efb2",
   "metadata": {},
   "outputs": [],
   "source": [
    "x_data = []\n",
    "y_data = []\n",
    "for z in range(0,int(n1/2)):\n",
    "    x_data.append([x_red[z],y_red[z]])\n",
    "    y_data.append(0)\n",
    "for m in range(0,int(n1/2)):\n",
    "    x_data.append([x_blue[m],y_blue[m]])\n",
    "    y_data.append(1)\n",
    "    "
   ]
  },
  {
   "cell_type": "code",
   "execution_count": 6,
   "id": "f39ca2bb",
   "metadata": {},
   "outputs": [
    {
     "name": "stdout",
     "output_type": "stream",
     "text": [
      "Confusion Matrix for Euclidian:\n",
      "[[8 2]\n",
      " [1 9]]\n",
      "Classification Report:\n",
      "              precision    recall  f1-score   support\n",
      "\n",
      "           0       0.89      0.80      0.84        10\n",
      "           1       0.82      0.90      0.86        10\n",
      "\n",
      "    accuracy                           0.85        20\n",
      "   macro avg       0.85      0.85      0.85        20\n",
      "weighted avg       0.85      0.85      0.85        20\n",
      "\n",
      "Accuracy: 0.85\n",
      "\n",
      "Confusion Matrix for Minkowski:\n",
      "[[8 2]\n",
      " [1 9]]\n",
      "Classification Report:\n",
      "              precision    recall  f1-score   support\n",
      "\n",
      "           0       0.89      0.80      0.84        10\n",
      "           1       0.82      0.90      0.86        10\n",
      "\n",
      "    accuracy                           0.85        20\n",
      "   macro avg       0.85      0.85      0.85        20\n",
      "weighted avg       0.85      0.85      0.85        20\n",
      "\n",
      "Accuracy: 0.85\n",
      "\n",
      "Confusion Matrix for Minkowski:\n",
      "[[8 2]\n",
      " [1 9]]\n",
      "Classification Report:\n",
      "              precision    recall  f1-score   support\n",
      "\n",
      "           0       0.89      0.80      0.84        10\n",
      "           1       0.82      0.90      0.86        10\n",
      "\n",
      "    accuracy                           0.85        20\n",
      "   macro avg       0.85      0.85      0.85        20\n",
      "weighted avg       0.85      0.85      0.85        20\n",
      "\n",
      "Accuracy: 0.85\n"
     ]
    },
    {
     "data": {
      "image/png": "[encoded data removed]",
      "text/plain": [
       "<Figure size 432x288 with 1 Axes>"
      ]
     },
     "metadata": {
      "needs_background": "light"
     },
     "output_type": "display_data"
    }
   ],
   "source": [
    "result1 = 0\n",
    "result2 = 0\n",
    "result3 = 0\n",
    "# for i in range(0,10):\n",
    "from sklearn.model_selection import train_test_split\n",
    "x_train, x_test, y_train, y_test = train_test_split(x_data, y_data, test_size = 0.20, random_state = 0)\n",
    "\n",
    "test_x = []\n",
    "test_y = []\n",
    "for i in range(0,len(x_test)-1):\n",
    "    test_x.append(x_test[i][0])\n",
    "    test_y.append(x_test[i][1])\n",
    "\n",
    "plt.plot(x_red,y_red,'r^',x_blue,y_blue,'b^',test_x,test_y,'c^')\n",
    "#use python library for knn metric=Euclidean\n",
    "from sklearn.neighbors import KNeighborsClassifier\n",
    "knn1 = KNeighborsClassifier(n_neighbors = k, metric = 'euclidean', p = 2)\n",
    "knn1.fit(x_train,y_train)\n",
    "ypred_1 = knn1.predict(x_test) #These are the predicted output values\n",
    "\n",
    "#confusion matrix and accuracy\n",
    "from sklearn.metrics import classification_report, confusion_matrix, accuracy_score\n",
    "result = confusion_matrix(y_test, ypred_1)\n",
    "print(\"Confusion Matrix for Euclidian:\")\n",
    "print(result)\n",
    "result1 = classification_report(y_test, ypred_1)\n",
    "print(\"Classification Report:\")\n",
    "print (result1)\n",
    "result = accuracy_score(y_test,ypred_1)\n",
    "print(\"Accuracy:\",result)\n",
    "    \n",
    "\n",
    "# use python library for knn metric = Minkowski\n",
    "from sklearn.neighbors import KNeighborsClassifier\n",
    "knn2 = KNeighborsClassifier(n_neighbors = k, metric = 'minkowski', p = 2)\n",
    "knn2.fit(x_train,y_train)\n",
    "ypred_2 = knn2.predict(x_test) #These are the predicted output values\n",
    "\n",
    "#confusion matrix and accuracy\n",
    "from sklearn.metrics import classification_report, confusion_matrix, accuracy_score\n",
    "result = confusion_matrix(y_test, ypred_2)\n",
    "print(\"\\nConfusion Matrix for Minkowski:\")\n",
    "print(result)\n",
    "result1 = classification_report(y_test, ypred_2)\n",
    "print(\"Classification Report:\")\n",
    "print (result1)\n",
    "result = accuracy_score(y_test,ypred_2)\n",
    "print(\"Accuracy:\",result)\n",
    "    \n",
    "#use python library for knn metric = Manhattan\n",
    "from sklearn.neighbors import KNeighborsClassifier\n",
    "knn3 = KNeighborsClassifier(n_neighbors = k, metric = 'manhattan', p = 1)\n",
    "knn3.fit(x_train,y_train)\n",
    "ypred_3 = knn3.predict(x_test) #These are the predicted output values\n",
    "\n",
    "#confusion matrix and accuracy\n",
    "from sklearn.metrics import classification_report, confusion_matrix, accuracy_score\n",
    "result = confusion_matrix(y_test, ypred_3)\n",
    "print(\"\\nConfusion Matrix for Minkowski:\")\n",
    "print(result)\n",
    "result1 = classification_report(y_test, ypred_3)\n",
    "print(\"Classification Report:\")\n",
    "print (result1)\n",
    "result = accuracy_score(y_test,ypred_3)\n",
    "print(\"Accuracy:\",result)\n",
    "    \n"
   ]
  },
  {
   "cell_type": "code",
   "execution_count": null,
   "id": "6b023fcd",
   "metadata": {},
   "outputs": [],
   "source": []
  }
 ],
 "metadata": {
  "kernelspec": {
   "display_name": "Python 3 (ipykernel)",
   "language": "python",
   "name": "python3"
  },
  "language_info": {
   "codemirror_mode": {
    "name": "ipython",
    "version": 3
   },
   "file_extension": ".py",
   "mimetype": "text/x-python",
   "name": "python",
   "nbconvert_exporter": "python",
   "pygments_lexer": "ipython3",
   "version": "3.9.12"
  }
 },
 "nbformat": 4,
 "nbformat_minor": 5
}
