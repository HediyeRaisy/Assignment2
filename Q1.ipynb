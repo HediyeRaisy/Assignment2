{
 "cells": [
  {
   "cell_type": "code",
   "execution_count": 1,
   "id": "931b746a",
   "metadata": {},
   "outputs": [],
   "source": [
    "import os\n",
    "import sys\n",
    "import glob\n",
    "import matplotlib.pyplot as plt\n",
    "import numpy as np\n",
    "import pandas as pd\n",
    "import sympy\n",
    "%matplotlib inline\n",
    "plt.style.use('ggplot')\n",
    "np.random.seed(1234)"
   ]
  },
  {
   "cell_type": "code",
   "execution_count": 2,
   "id": "f4e3b2e9",
   "metadata": {},
   "outputs": [
    {
     "name": "stdout",
     "output_type": "stream",
     "text": [
      "Eq(1.0*y*Abs(theta_1 - theta_3)*sign(theta_1 - theta_3)/(theta_1 - theta_3)**2, 0)\n"
     ]
    }
   ],
   "source": [
    "a = 5\n",
    "b = 5\n",
    "d = [[2,3],[3,1],[5,4],[4,a],[b,6]]\n",
    "y= sympy.symbols('y',real=True)\n",
    "theta_3, theta_1,theta_2,theta_4 = sympy.symbols('theta_3 theta_1 theta_2 theta_4',real=True)\n",
    "#E-step\n",
    "max_iter = 100\n",
    "theta = [0,0,10,10]\n",
    "p =1/(abs(theta[2]-theta[0])*abs(theta[3]-theta[1]))\n",
    "Q = y*sympy.log(1/(abs(theta_3-theta_1)*abs(theta_4 - theta_2))* 0.01)\n",
    "expr_diff_3 = sympy.Eq(sympy.Derivative(Q,theta_3),0)\n",
    "print(expr_diff_3.doit())"
   ]
  },
  {
   "cell_type": "code",
   "execution_count": 3,
   "id": "f9c04502",
   "metadata": {},
   "outputs": [
    {
     "name": "stdout",
     "output_type": "stream",
     "text": [
      "Eq(-1.0*y*Abs(theta_1 - theta_3)*sign(theta_1 - theta_3)/(theta_1 - theta_3)**2, 0)\n",
      "Eq(-1.0*y*Abs(theta_2 - theta_4)*sign(theta_2 - theta_4)/(theta_2 - theta_4)**2, 0)\n",
      "Eq(1.0*y*Abs(theta_2 - theta_4)*sign(theta_2 - theta_4)/(theta_2 - theta_4)**2, 0)\n"
     ]
    }
   ],
   "source": [
    "expr_diff_1 = sympy.Eq(sympy.Derivative(Q,theta_1),0)\n",
    "print(expr_diff_1.doit())\n",
    "expr_diff_2 = sympy.Eq(sympy.Derivative(Q,theta_2),0)\n",
    "print(expr_diff_2.doit())\n",
    "expr_diff_4 = sympy.Eq(sympy.Derivative(Q,theta_4),0)\n",
    "print(expr_diff_4.doit())"
   ]
  },
  {
   "cell_type": "code",
   "execution_count": 4,
   "id": "d3d8759c",
   "metadata": {},
   "outputs": [
    {
     "name": "stdout",
     "output_type": "stream",
     "text": [
      "[]\n"
     ]
    }
   ],
   "source": [
    "print(sympy.solve((expr_diff_1, expr_diff_2, expr_diff_3, expr_diff_4), (theta_1, theta_2, theta_3, theta_4)))"
   ]
  },
  {
   "cell_type": "code",
   "execution_count": 5,
   "id": "7911df65",
   "metadata": {},
   "outputs": [
    {
     "name": "stdout",
     "output_type": "stream",
     "text": [
      "[]\n"
     ]
    }
   ],
   "source": [
    "expr1 = sympy.Eq(-1.0*y*-1*(theta_1 - theta_3)*-1/(theta_1 - theta_3)**2,0)\n",
    "expr2 = sympy.Eq(-1.0*y*-1*(theta_2 - theta_4)*-1/(theta_2 - theta_4)**2,0)\n",
    "expr3 = sympy.Eq(1.0*y*-1*(theta_1 - theta_3)*-1/(theta_1 - theta_3)**2,0)\n",
    "expr4 = sympy.Eq(1.0*y*-1*(theta_2 - theta_4)*-1/(theta_2 - theta_4)**2,0)\n",
    "print(sympy.solve((expr1, expr2, expr3, expr4), (theta_1, theta_2, theta_3, theta_4)))"
   ]
  },
  {
   "cell_type": "code",
   "execution_count": 8,
   "id": "d99ed39f",
   "metadata": {},
   "outputs": [],
   "source": [
    "e = sympy.Eq(1/(abs(theta_4-theta_2)*abs(theta_3-theta_1)),1)"
   ]
  },
  {
   "cell_type": "code",
   "execution_count": null,
   "id": "cae46461",
   "metadata": {},
   "outputs": [],
   "source": []
  }
 ],
 "metadata": {
  "kernelspec": {
   "display_name": "Python 3 (ipykernel)",
   "language": "python",
   "name": "python3"
  },
  "language_info": {
   "codemirror_mode": {
    "name": "ipython",
    "version": 3
   },
   "file_extension": ".py",
   "mimetype": "text/x-python",
   "name": "python",
   "nbconvert_exporter": "python",
   "pygments_lexer": "ipython3",
   "version": "3.9.12"
  }
 },
 "nbformat": 4,
 "nbformat_minor": 5
}
