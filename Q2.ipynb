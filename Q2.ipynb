{
 "cells": [
  {
   "cell_type": "code",
   "execution_count": 1,
   "id": "85dc45d5",
   "metadata": {},
   "outputs": [],
   "source": [
    "import random as rand\n",
    "import math\n",
    "import pandas as pd\n",
    "import matplotlib.pyplot as plt\n",
    "import sys\n",
    "import numpy as np\n",
    "import scipy.stats\n",
    "from scipy.stats import norm\n",
    "from sklearn.mixture import GaussianMixture\n",
    "import seaborn as sns"
   ]
  },
  {
   "cell_type": "code",
   "execution_count": 2,
   "id": "203b396a",
   "metadata": {},
   "outputs": [
    {
     "data": {
      "image/png": "[encoded data removed]",
      "text/plain": [
       "<Figure size 432x288 with 1 Axes>"
      ]
     },
     "metadata": {
      "needs_background": "light"
     },
     "output_type": "display_data"
    }
   ],
   "source": [
    "# x1 = np.random.normal(2.0,4.0, size=1000)\n",
    "# x2 = np.random.normal(9.0,2.0, size=1000)\n",
    "X1 = np.random.normal(loc=2.0, scale=4.0, size=1000)\n",
    "X2 = np.random.normal(loc=9.0, scale=2.0, size=1000)\n",
    "X = np.hstack((X1, X2))\n",
    "# plot the histogram\n",
    "plt.hist(X, bins=50, density=True)\n",
    "plt.show()\n",
    "# x = np.hstack((x1,x2))\n",
    "# plt.hist(x, 100)\n",
    "\n",
    "# plt.show()\n"
   ]
  },
  {
   "cell_type": "code",
   "execution_count": 3,
   "id": "82eea233",
   "metadata": {},
   "outputs": [
    {
     "name": "stdout",
     "output_type": "stream",
     "text": [
      "Converged: True\n",
      "mu = \n",
      "[[5.51866295]]\n",
      "std = \n",
      "[[[21.68856907]]]\n"
     ]
    }
   ],
   "source": [
    "# # x.reshape(-1, 1)\n",
    "# GMM = GaussianMixture(n_components = 1)\n",
    "# GMM.fit(x)\n",
    "# print('Converged:',GMM.converged_)\n",
    "# means = GMM.means_\n",
    "# covariances = GMM.covariances_\n",
    "# print('mu = ',means,sep='\\n')\n",
    "# print('covariance matrix = ',covariances,sep='\\n')\n",
    "# fit model\n",
    "X = X.reshape((len(X), 1))\n",
    "model = GaussianMixture(n_components=1, init_params='random')\n",
    "model.fit(X)\n",
    "print('Converged:',model.converged_)\n",
    "mean = model.means_\n",
    "std = model.covariances_\n",
    "print('mu = ',mean,sep='\\n')\n",
    "print('std = ',std,sep='\\n')"
   ]
  },
  {
   "cell_type": "code",
   "execution_count": null,
   "id": "1c758aeb",
   "metadata": {},
   "outputs": [],
   "source": [
    "\n",
    "\n",
    "\n",
    "\n"
   ]
  },
  {
   "cell_type": "code",
   "execution_count": null,
   "id": "3c5d0023",
   "metadata": {},
   "outputs": [],
   "source": []
  }
 ],
 "metadata": {
  "kernelspec": {
   "display_name": "Python 3 (ipykernel)",
   "language": "python",
   "name": "python3"
  },
  "language_info": {
   "codemirror_mode": {
    "name": "ipython",
    "version": 3
   },
   "file_extension": ".py",
   "mimetype": "text/x-python",
   "name": "python",
   "nbconvert_exporter": "python",
   "pygments_lexer": "ipython3",
   "version": "3.9.12"
  }
 },
 "nbformat": 4,
 "nbformat_minor": 5
}
